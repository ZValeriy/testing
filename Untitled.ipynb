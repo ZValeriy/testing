{
 "cells": [
  {
   "cell_type": "code",
   "execution_count": 4,
   "metadata": {},
   "outputs": [
    {
     "name": "stdout",
     "output_type": "stream",
     "text": [
      "0.38965\n"
     ]
    }
   ],
   "source": [
    "l1 = [0.09,0.25,0.29,0.1,0.14,0.63,0.09,0.63,0.6]\n",
    "l2 = [0.28,0.25,0.14,0.67,0.43,0.14,0.64,0.28,0.20]\n",
    "l3 = [0.63,0.5,0.57,0.23,0.43,0.24,0.27,0.09,0.2]\n",
    "kr = [0.031,0.140,0.255,0.048,0.093,0.235,0.153,0.027,0.018]\n",
    "\n",
    "s = 0\n",
    "for i in range(len(l1)):\n",
    "    s += l3[i]*kr[i]\n",
    "print(s)"
   ]
  },
  {
   "cell_type": "code",
   "execution_count": null,
   "metadata": {},
   "outputs": [],
   "source": []
  }
 ],
 "metadata": {
  "kernelspec": {
   "display_name": "Python 3",
   "language": "python",
   "name": "python3"
  },
  "language_info": {
   "codemirror_mode": {
    "name": "ipython",
    "version": 3
   },
   "file_extension": ".py",
   "mimetype": "text/x-python",
   "name": "python",
   "nbconvert_exporter": "python",
   "pygments_lexer": "ipython3",
   "version": "3.7.4"
  }
 },
 "nbformat": 4,
 "nbformat_minor": 2
}
